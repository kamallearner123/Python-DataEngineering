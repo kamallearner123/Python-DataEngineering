{
 "cells": [
  {
   "cell_type": "code",
   "execution_count": 3,
   "id": "2bacd4ed-eee3-430f-9d78-6ded1b53f367",
   "metadata": {},
   "outputs": [],
   "source": [
    "WEBHOOK_URL = \"https://teams.live.com/l/invite/FEAdZi13A1qMivQSQE\"\n",
    "import requests\n",
    "\n",
    "#WEBHOOK_URL = \"https://teams.live.com/l/invite/FEAdZi13A1qMivQSQE\"  # Replace with your Webhook URL\n",
    "\n",
    "messages = [\n",
    "    \"[23/01/25, 4:16:14 PM] Kiran G Sweden: Great !! Thanks\",\n",
    "    \"[25/01/25, 3:26:52 PM] Kamal: REMINDER\",\n",
    "    \"[25/01/25, 3:28:13 PM] Kamal: Starts at 4:30\",\n",
    "    \"[25/01/25, 3:28:24 PM] Roshan Harman Apt: Sorry can't join, work is there\",\n",
    "    \"[25/01/25, 3:46:18 PM] Hari Juniper networks: Even me too not able to Join Kamal\"\n",
    "]\n",
    "\n",
    "for message in messages:\n",
    "    payload = {\"text\": message}\n",
    "    requests.post(WEBHOOK_URL, json=payload)\n"
   ]
  },
  {
   "cell_type": "code",
   "execution_count": null,
   "id": "d4330983-b59b-48a3-8039-92fb6e0bf017",
   "metadata": {},
   "outputs": [],
   "source": []
  }
 ],
 "metadata": {
  "kernelspec": {
   "display_name": "Python3 (DeepCode)",
   "language": "python",
   "name": "deepcode"
  },
  "language_info": {
   "codemirror_mode": {
    "name": "ipython",
    "version": 3
   },
   "file_extension": ".py",
   "mimetype": "text/x-python",
   "name": "python",
   "nbconvert_exporter": "python",
   "pygments_lexer": "ipython3",
   "version": "3.13.1"
  }
 },
 "nbformat": 4,
 "nbformat_minor": 5
}
