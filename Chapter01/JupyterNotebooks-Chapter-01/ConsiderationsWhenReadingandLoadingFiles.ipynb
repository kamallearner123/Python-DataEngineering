{
 "cells": [
  {
   "cell_type": "markdown",
   "id": "5c87e981-9518-4c85-83dc-64638663a293",
   "metadata": {},
   "source": [
    "# 📌 Considerations When Reading and Loading Files in Python\n",
    "\n",
    "## 1️⃣ File Handling Considerations  \n",
    "✅ **File Existence**  \n",
    "   - Ensure the file exists before reading to avoid `FileNotFoundError`.  \n",
    "   - Use `os.path.exists(filename)` to check.  \n",
    "\n",
    "✅ **File Path Handling**  \n",
    "   - Use absolute or relative paths correctly.  \n",
    "   - Handle platform differences (`os.path.join()` for compatibility).  \n",
    "\n",
    "✅ **File Permissions**  \n",
    "   - Ensure the file has the correct read permissions (`r` mode).  \n",
    "   - Use `try-except` to handle `PermissionError`.  \n",
    "\n",
    "✅ **File Size**  \n",
    "   - Large files can consume excessive memory.  \n",
    "   - Use generators or chunk-based reading (`readline()`, `iter()`).  \n",
    "\n",
    "✅ **Encoding Issues**  \n",
    "   - Specify encoding (`utf-8`, `latin-1`) to avoid `UnicodeDecodeError`.  \n",
    "   - Example: `open(filename, encoding=\"utf-8\")`.  \n",
    "\n",
    "---\n",
    "\n",
    "## 2️⃣ Data Handling Considerations  \n",
    "✅ **Data Format**  \n",
    "   - Ensure the correct format (`CSV`, `JSON`, `XML`, `Binary`, etc.).  \n",
    "   - Use appropriate parsing libraries (`csv`, `json`, `pandas`).  \n",
    "\n",
    "✅ **Header Handling (for Tabular Data)**  \n",
    "   - Verify if the file contains a header row.  \n",
    "   - Use `header=None` in `pandas.read_csv()` if missing.  \n",
    "\n",
    "✅ **Delimiter Issues (CSV, TSV, etc.)**  \n",
    "   - Ensure the delimiter is correct (`,`, `;`, `\\t`, etc.).  \n",
    "   - Use `sep=\",\"` in `pandas.read_csv()` if needed.  \n",
    "\n",
    "✅ **Missing or Corrupt Data**  \n",
    "   - Handle missing values properly (`NaN`, `None`).  \n",
    "   - Use `dropna()` or `fillna()` in Pandas.  \n",
    "\n",
    "✅ **Data Type Conversion**  \n",
    "   - Convert strings to integers, floats, or datetime where needed.  \n",
    "   - Use `astype()` in Pandas.  \n",
    "\n",
    "---\n",
    "\n",
    "## 3️⃣ Performance & Efficiency  \n",
    "✅ **Reading Large Files**  \n",
    "   - Use `chunksize` in `pandas.read_csv()` for large files.  \n",
    "   - Use `with open(filename) as f:` to auto-close files.  \n",
    "\n",
    "✅ **Memory Usage**  \n",
    "   - Avoid loading the entire file into memory (use `iter()` or streaming).  \n",
    "   - Convert large `object` columns to `category` in Pandas.  \n",
    "\n",
    "✅ **Parallel Processing**  \n",
    "   - Use multiprocessing (`concurrent.futures`, `dask`) for large datasets.  \n",
    "\n",
    "✅ **Compression Handling**  \n",
    "   - Use `zipfile`, `gzip`, `tarfile` if the file is compressed.  \n",
    "\n",
    "---\n",
    "\n",
    "## 4️⃣ Error Handling & Logging  \n",
    "✅ **Handle Exceptions Properly**  \n",
    "   - Use `try-except` blocks to catch errors gracefully.  \n",
    "\n",
    "✅ **Logging**  \n",
    "   - Use Python’s `logging` module to log errors or warnings.  \n",
    "\n",
    "✅ **Validation**  \n",
    "   - Check data integrity (e.g., no missing columns in CSV).  \n",
    "   - Use assertions to enforce expected structure.  \n",
    "\n",
    "---\n",
    "\n",
    "## ✅ Example: Safe File Reading\n",
    "```python\n",
    "import os\n",
    "import pandas as pd\n",
    "\n",
    "file_path = \"data.csv\"\n",
    "\n",
    "if os.path.exists(file_path):\n",
    "    try:\n",
    "        df = pd.read_csv(file_path, encoding=\"utf-8\", sep=\",\", dtype={\"ID\": int})\n",
    "        print(df.head())  # Preview data\n",
    "    except Exception as e:\n",
    "        print(f\"Error reading file: {e}\")\n",
    "else:\n",
    "    print(\"File not found!\")\n"
   ]
  },
  {
   "cell_type": "code",
   "execution_count": 2,
   "id": "2e55ac08-f402-42b7-8082-746b8d6ead7a",
   "metadata": {},
   "outputs": [],
   "source": [
    "!touch data.csv"
   ]
  },
  {
   "cell_type": "code",
   "execution_count": 3,
   "id": "f2edcac5-6088-4e2a-97d1-6424089ac442",
   "metadata": {},
   "outputs": [
    {
     "name": "stdout",
     "output_type": "stream",
     "text": [
      "File found, proceeding with reading...\n"
     ]
    }
   ],
   "source": [
    "# File Existence\n",
    "\n",
    "import os\n",
    "\n",
    "file_path = \"data.csv\"\n",
    "if os.path.exists(file_path):\n",
    "    print(\"File found, proceeding with reading...\")\n",
    "else:\n",
    "    print(\"File not found!\")\n",
    "    "
   ]
  },
  {
   "cell_type": "code",
   "execution_count": null,
   "id": "6450319d-b10d-41b8-9a4e-035180e85df8",
   "metadata": {},
   "outputs": [],
   "source": [
    "# File Path Handling\n",
    "import os\n",
    "os.\n"
   ]
  }
 ],
 "metadata": {
  "kernelspec": {
   "display_name": "Python 3 (ipykernel)",
   "language": "python",
   "name": "python3"
  },
  "language_info": {
   "codemirror_mode": {
    "name": "ipython",
    "version": 3
   },
   "file_extension": ".py",
   "mimetype": "text/x-python",
   "name": "python",
   "nbconvert_exporter": "python",
   "pygments_lexer": "ipython3",
   "version": "3.13.1"
  }
 },
 "nbformat": 4,
 "nbformat_minor": 5
}
