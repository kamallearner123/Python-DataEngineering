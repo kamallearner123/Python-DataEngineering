{
 "cells": [
  {
   "cell_type": "markdown",
   "id": "3b08d5b9-5a6a-4496-9951-5977ed71a6f7",
   "metadata": {},
   "source": [
    "# Parsing JSON and XML Responses (Python: json, Rust: serde_json)\n",
    "\n",
    "## Introduction\n",
    "When working with APIs, data is often returned in **JSON** or **XML** format. In this tutorial, we will learn how to parse and process JSON and XML responses using Python (`json` module) and Rust (`serde_json` crate).\n",
    "\n",
    "---\n",
    "\n",
    "## 📌 **Parsing JSON Responses**\n",
    "JSON (JavaScript Object Notation) is a lightweight data format used widely for API responses.\n",
    "\n",
    "### **Python: Parsing JSON**\n",
    "Python provides the built-in `json` module to parse JSON responses.\n",
    "\n",
    "#### **Example: Parsing a JSON API Response**\n",
    "```python\n",
    "import json\n",
    "\n",
    "# Example JSON response from an API\n",
    "json_response = '''{\n",
    "    \"name\": \"Alice\",\n",
    "    \"age\": 30,\n",
    "    \"city\": \"New York\",\n",
    "    \"skills\": [\"Python\", \"Rust\", \"Machine Learning\"]\n",
    "}'''\n",
    "\n",
    "# Convert JSON string to a Python dictionary\n",
    "data = json.loads(json_response)\n",
    "\n",
    "# Accessing values\n",
    "print(f\"Name: {data['name']}\")\n",
    "print(f\"Age: {data['age']}\")\n",
    "print(f\"City: {data['city']}\")\n",
    "print(f\"Skills: {', '.join(data['skills'])}\")\n"
   ]
  },
  {
   "cell_type": "code",
   "execution_count": null,
   "id": "e42bc186-852a-41e3-9053-e72f47c42b75",
   "metadata": {},
   "outputs": [],
   "source": []
  }
 ],
 "metadata": {
  "kernelspec": {
   "display_name": "Python3 (DeepCode)",
   "language": "python",
   "name": "deepcode"
  },
  "language_info": {
   "codemirror_mode": {
    "name": "ipython",
    "version": 3
   },
   "file_extension": ".py",
   "mimetype": "text/x-python",
   "name": "python",
   "nbconvert_exporter": "python",
   "pygments_lexer": "ipython3",
   "version": "3.13.2"
  }
 },
 "nbformat": 4,
 "nbformat_minor": 5
}
